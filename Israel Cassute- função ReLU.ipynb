{
 "cells": [
  {
   "cell_type": "code",
   "execution_count": 2,
   "id": "ddbe679a-83af-4ff4-8b7e-f0d401d84511",
   "metadata": {},
   "outputs": [
    {
     "name": "stdout",
     "output_type": "stream",
     "text": [
      "[5.3, 8.3, 9.500000000000002]\n"
     ]
    }
   ],
   "source": [
    "\n",
    "def relu(x):\n",
    "    return max(0, x)\n",
    "\n",
    "\n",
    "entrada = [1, 2, 4, 3]\n",
    "pesos = [[0.1, 0.3, 0.6, 0.4],\n",
    "         [0.3, 0.7, 1, 0.2],\n",
    "         [0.4, 0.2, 2, 0.1]]\n",
    "bias = [1, 2, 0.4]\n",
    "\n",
    "\n",
    "saida = [relu(entrada[0]*pesos[0][0] +\n",
    "              entrada[1]*pesos[0][1] +\n",
    "              entrada[2]*pesos[0][2] +\n",
    "              entrada[3]*pesos[0][3] + bias[0]),\n",
    "         relu(entrada[0]*pesos[1][0] +\n",
    "              entrada[1]*pesos[1][1] +\n",
    "              entrada[2]*pesos[1][2] +\n",
    "              entrada[3]*pesos[1][3] + bias[1]),\n",
    "         relu(entrada[0]*pesos[2][0] +\n",
    "              entrada[1]*pesos[2][1] +\n",
    "              entrada[2]*pesos[2][2] +\n",
    "              entrada[3]*pesos[2][3] + bias[2])]\n",
    "\n",
    "print(saida)"
   ]
  },
  {
   "cell_type": "code",
   "execution_count": null,
   "id": "c5ef7632-d5c9-46d2-8b22-282b348ce25e",
   "metadata": {},
   "outputs": [],
   "source": []
  }
 ],
 "metadata": {
  "kernelspec": {
   "display_name": "Python 3 (ipykernel)",
   "language": "python",
   "name": "python3"
  },
  "language_info": {
   "codemirror_mode": {
    "name": "ipython",
    "version": 3
   },
   "file_extension": ".py",
   "mimetype": "text/x-python",
   "name": "python",
   "nbconvert_exporter": "python",
   "pygments_lexer": "ipython3",
   "version": "3.9.13"
  }
 },
 "nbformat": 4,
 "nbformat_minor": 5
}
